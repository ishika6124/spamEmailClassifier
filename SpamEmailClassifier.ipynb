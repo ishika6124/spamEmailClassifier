{
  "nbformat": 4,
  "nbformat_minor": 0,
  "metadata": {
    "colab": {
      "provenance": [],
      "gpuType": "T4"
    },
    "kernelspec": {
      "name": "python3",
      "display_name": "Python 3"
    },
    "language_info": {
      "name": "python"
    },
    "accelerator": "GPU"
  },
  "cells": [
    {
      "cell_type": "code",
      "execution_count": 7,
      "metadata": {
        "id": "XN6fVh3i6C0c"
      },
      "outputs": [],
      "source": [
        "import pandas as pd\n",
        "import numpy as np\n",
        "import torch\n",
        "import torch.nn as nn\n",
        "import torch.optim as optim\n",
        "import re\n",
        "import nltk\n",
        "from sklearn.model_selection import train_test_split\n",
        "from sklearn.feature_extraction.text import TfidfVectorizer\n",
        "from sklearn.metrics import accuracy_score, classification_report\n",
        "from sklearn.feature_extraction.text import CountVectorizer\n",
        "\n"
      ]
    },
    {
      "cell_type": "code",
      "source": [
        "\n",
        "\n",
        "# Download NLTK stopwords\n",
        "nltk.download('stopwords')\n",
        "from nltk.corpus import stopwords\n",
        "\n",
        "# Load dataset (SpamAssassin Public Corpus or any other email dataset)\n",
        "data = pd.read_csv(\"/content/spam.csv\")\n",
        "\n",
        "# Preprocessing function\n",
        "def clean_text(text):\n",
        "    text = text.lower()\n",
        "    text = re.sub(r'[^a-zA-Z]', ' ', text)\n",
        "    words = text.split()\n",
        "    words = [word for word in words if word not in stopwords.words('english')]\n",
        "    return ' '.join(words)\n",
        "\n",
        "# Apply preprocessing\n",
        "data['clean_text'] = data['Message'].apply(clean_text)\n",
        "\n",
        "# Convert labels (1 = spam, 0 = good email)\n",
        "data['label'] = data['Category'].apply(lambda x: 1 if x == 'spam' else 0)\n",
        "\n",
        "# Split dataset\n",
        "X_train, X_test, y_train, y_test = train_test_split(data['clean_text'], data['label'], test_size=0.2, random_state=42)\n",
        "\n",
        "# Convert text to numerical representation using CountVectorizer\n",
        "vectorizer = CountVectorizer(max_features=5000)\n",
        "X_train_seq = vectorizer.fit_transform(X_train).toarray()\n",
        "X_test_seq = vectorizer.transform(X_test).toarray()\n",
        "\n",
        "# Convert to PyTorch tensors\n",
        "X_train_torch = torch.tensor(X_train_seq, dtype=torch.float32)\n",
        "X_test_torch = torch.tensor(X_test_seq, dtype=torch.float32)\n",
        "y_train_torch = torch.tensor(y_train.values, dtype=torch.long)\n",
        "y_test_torch = torch.tensor(y_test.values, dtype=torch.long)\n",
        "\n",
        "# Define LSTM model\n",
        "class LSTMEmailClassifier(nn.Module):\n",
        "    def __init__(self, input_size, hidden_size, num_layers, output_size):\n",
        "        super(LSTMEmailClassifier, self).__init__()\n",
        "        self.lstm = nn.LSTM(input_size, hidden_size, num_layers, batch_first=True)\n",
        "        self.fc = nn.Linear(hidden_size, output_size)\n",
        "\n",
        "    def forward(self, x):\n",
        "        _, (hidden, _) = self.lstm(x)\n",
        "        out = self.fc(hidden[-1])\n",
        "        return out\n",
        "\n",
        "# Initialize model\n",
        "input_size = X_train_seq.shape[1]\n",
        "hidden_size = 128\n",
        "num_layers = 2\n",
        "output_size = 2\n",
        "model = LSTMEmailClassifier(input_size, hidden_size, num_layers, output_size)\n",
        "\n",
        "criterion = nn.CrossEntropyLoss()\n",
        "optimizer = optim.Adam(model.parameters(), lr=0.01)\n",
        "\n",
        "# Train model\n",
        "epochs = 10\n",
        "for epoch in range(epochs):\n",
        "    optimizer.zero_grad()\n",
        "    outputs = model(X_train_torch.unsqueeze(1))\n",
        "    loss = criterion(outputs, y_train_torch)\n",
        "    loss.backward()\n",
        "    optimizer.step()\n",
        "    if (epoch + 1) % 2 == 0:\n",
        "        print(f\"Epoch [{epoch+1}/{epochs}], Loss: {loss.item():.4f}\")\n",
        "\n",
        "# Evaluate model\n",
        "with torch.no_grad():\n",
        "    y_pred = model(X_test_torch.unsqueeze(1))\n",
        "    y_pred = torch.argmax(y_pred, dim=1).numpy()\n",
        "    accuracy = accuracy_score(y_test, y_pred)\n",
        "    print(\"Accuracy:\", accuracy)\n",
        "    print(\"Classification Report:\\n\", classification_report(y_test, y_pred))\n",
        "\n",
        "# Notification System\n",
        "def notify_email(text):\n",
        "    text_seq = vectorizer.transform([clean_text(text)]).toarray()\n",
        "    text_tensor = torch.tensor(text_seq, dtype=torch.float32).unsqueeze(1)\n",
        "    with torch.no_grad():\n",
        "        prediction = model(text_tensor)\n",
        "        label = torch.argmax(prediction, dim=1).item()\n",
        "    if label == 0:\n",
        "        print(\"📩 New Good Email Received!\")\n",
        "    else:\n",
        "        print(\"🚫 Spam detected. No notification.\")\n"
      ],
      "metadata": {
        "colab": {
          "base_uri": "https://localhost:8080/"
        },
        "id": "4W2gfcaa9Ao5",
        "outputId": "b830b86e-e5a5-4af1-992a-5d6c21e9c349"
      },
      "execution_count": 8,
      "outputs": [
        {
          "output_type": "stream",
          "name": "stderr",
          "text": [
            "[nltk_data] Downloading package stopwords to /root/nltk_data...\n",
            "[nltk_data]   Package stopwords is already up-to-date!\n"
          ]
        },
        {
          "output_type": "stream",
          "name": "stdout",
          "text": [
            "Epoch [2/10], Loss: 0.6315\n",
            "Epoch [4/10], Loss: 0.4226\n",
            "Epoch [6/10], Loss: 0.1710\n",
            "Epoch [8/10], Loss: 0.0810\n",
            "Epoch [10/10], Loss: 0.0493\n",
            "Accuracy: 0.9811659192825112\n",
            "Classification Report:\n",
            "               precision    recall  f1-score   support\n",
            "\n",
            "           0       0.98      1.00      0.99       966\n",
            "           1       1.00      0.86      0.92       149\n",
            "\n",
            "    accuracy                           0.98      1115\n",
            "   macro avg       0.99      0.93      0.96      1115\n",
            "weighted avg       0.98      0.98      0.98      1115\n",
            "\n"
          ]
        }
      ]
    },
    {
      "cell_type": "code",
      "source": [
        "sample_email = \"you have won a lottery!!!!\"\n",
        "notify_email(sample_email)\n"
      ],
      "metadata": {
        "colab": {
          "base_uri": "https://localhost:8080/"
        },
        "id": "5160hrIo9usd",
        "outputId": "7e2c25b2-f3fa-4e56-f093-f20da031cda6"
      },
      "execution_count": 9,
      "outputs": [
        {
          "output_type": "stream",
          "name": "stdout",
          "text": [
            "📩 New Good Email Received!\n"
          ]
        }
      ]
    }
  ]
}